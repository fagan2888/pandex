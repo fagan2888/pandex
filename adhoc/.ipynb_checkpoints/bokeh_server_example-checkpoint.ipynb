{
 "cells": [
  {
   "cell_type": "code",
   "execution_count": 2,
   "metadata": {},
   "outputs": [],
   "source": [
    "import numpy as np\n",
    "import pandas as pd\n",
    "import matplotlib.pyplot as plt\n",
    "\n",
    "# bokeh imports\n",
    "from bokeh.server.server import Server\n",
    "from bokeh.application import Application\n",
    "from bokeh.application.handlers.function import FunctionHandler\n",
    "from bokeh.plotting import figure, ColumnDataSource\n",
    "from bokeh.io import show\n",
    "\n",
    "\n",
    "titanic_filename = \"D:\\\\Kaggle\\\\Titanic\\\\train.csv\"\n",
    "data = pd.read_csv(titanic_filename)\n",
    "\n",
    "# helper functions\n",
    "def make_document(doc):\n",
    "    fig = figure(title='Line plot',\n",
    "                 sizing_mode='scale_width')\n",
    "    fig.line(x=[1,2,3], y=[1, 4, 9])\n",
    "    doc.title = \"Hello, world!\"\n",
    "    doc.add_root(fig)\n",
    "\n",
    "apps = {'/': Application(FunctionHandler(make_document))}\n",
    "\n",
    "server = Server(apps, port=5000)\n",
    "server.start()\n"
   ]
  },
  {
   "cell_type": "code",
   "execution_count": 3,
   "metadata": {},
   "outputs": [],
   "source": [
    "server.stop()"
   ]
  },
  {
   "cell_type": "code",
   "execution_count": 1,
   "metadata": {},
   "outputs": [],
   "source": []
  },
  {
   "cell_type": "code",
   "execution_count": null,
   "metadata": {},
   "outputs": [],
   "source": []
  }
 ],
 "metadata": {
  "kernelspec": {
   "display_name": "Python 3",
   "language": "python",
   "name": "python3"
  },
  "language_info": {
   "codemirror_mode": {
    "name": "ipython",
    "version": 3
   },
   "file_extension": ".py",
   "mimetype": "text/x-python",
   "name": "python",
   "nbconvert_exporter": "python",
   "pygments_lexer": "ipython3",
   "version": "3.7.3"
  }
 },
 "nbformat": 4,
 "nbformat_minor": 2
}
